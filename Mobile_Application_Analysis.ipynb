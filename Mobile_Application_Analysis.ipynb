{
 "cells": [
  {
   "cell_type": "markdown",
   "metadata": {},
   "source": [
    "# Analysis of Mobile Application Data"
   ]
  },
  {
   "cell_type": "markdown",
   "metadata": {},
   "source": [
    "## Purpose\n",
    "As of mid-2018, there were over 2 million mobile applications available in either the iOS or Android systems. As makers of free apps, we would like to analyze existing app data to identify avenues for growth. \n",
    "\n",
    "The goal of this analysis is to improve understanding of what types of applications are likely to attract more users on the app stores, and select a genre of app that will be successful across platforms.  "
   ]
  },
  {
   "cell_type": "markdown",
   "metadata": {},
   "source": [
    "This project utlizes data sets collected from the Google Play store ([Android](https://www.kaggle.com/datasets/lava18/google-play-store-apps)) and the App Store ([iOS](https://www.kaggle.com/datasets/ramamet4/app-store-apple-data-set-10k-apps?select=appleStore_description.csv)) containing sample data from approximately 10,000 and 7,000 apps, respectively."
   ]
  },
  {
   "cell_type": "markdown",
   "metadata": {},
   "source": [
    "### Data "
   ]
  },
  {
   "cell_type": "code",
   "execution_count": 1,
   "metadata": {},
   "outputs": [],
   "source": [
    "from csv import reader\n",
    "\n",
    "# Android Google Play store data\n",
    "opened_file = open('googleplaystore.csv')\n",
    "read_file = reader(opened_file)\n",
    "android = list(read_file)\n",
    "android_header = android[0]\n",
    "android = android[1:]\n",
    "        \n",
    "# Apple App Store data\n",
    "opened_file = open('AppleStore.csv')\n",
    "read_file = reader(opened_file)\n",
    "apple = list(read_file)\n",
    "apple_header = apple[0]\n",
    "apple = apple[1:]"
   ]
  },
  {
   "cell_type": "code",
   "execution_count": 2,
   "metadata": {},
   "outputs": [],
   "source": [
    "def explore_data(dataset, start, end, rows_and_columns = False):\n",
    "    dataset_slice = dataset[start:end]\n",
    "    for row in dataset_slice: \n",
    "        print(row)\n",
    "        print('\\n')\n",
    "        \n",
    "    if rows_and_columns:\n",
    "        print('Number of rows:', len(dataset))\n",
    "        print('Number of columns:', len(dataset[0]))"
   ]
  },
  {
   "cell_type": "code",
   "execution_count": 3,
   "metadata": {},
   "outputs": [
    {
     "name": "stdout",
     "output_type": "stream",
     "text": [
      "['App', 'Category', 'Rating', 'Reviews', 'Size', 'Installs', 'Type', 'Price', 'Content Rating', 'Genres', 'Last Updated', 'Current Ver', 'Android Ver']\n",
      "\n",
      "\n",
      "['Photo Editor & Candy Camera & Grid & ScrapBook', 'ART_AND_DESIGN', '4.1', '159', '19M', '10,000+', 'Free', '0', 'Everyone', 'Art & Design', 'January 7, 2018', '1.0.0', '4.0.3 and up']\n",
      "\n",
      "\n",
      "['Coloring book moana', 'ART_AND_DESIGN', '3.9', '967', '14M', '500,000+', 'Free', '0', 'Everyone', 'Art & Design;Pretend Play', 'January 15, 2018', '2.0.0', '4.0.3 and up']\n",
      "\n",
      "\n",
      "['U Launcher Lite – FREE Live Cool Themes, Hide Apps', 'ART_AND_DESIGN', '4.7', '87510', '8.7M', '5,000,000+', 'Free', '0', 'Everyone', 'Art & Design', 'August 1, 2018', '1.2.4', '4.0.3 and up']\n",
      "\n",
      "\n",
      "Number of rows: 10841\n",
      "Number of columns: 13\n"
     ]
    }
   ],
   "source": [
    "print(android_header)\n",
    "print('\\n')\n",
    "explore_data(android, 0, 3, True)"
   ]
  },
  {
   "cell_type": "code",
   "execution_count": 4,
   "metadata": {},
   "outputs": [
    {
     "name": "stdout",
     "output_type": "stream",
     "text": [
      "['id', 'track_name', 'size_bytes', 'currency', 'price', 'rating_count_tot', 'rating_count_ver', 'user_rating', 'user_rating_ver', 'ver', 'cont_rating', 'prime_genre', 'sup_devices.num', 'ipadSc_urls.num', 'lang.num', 'vpp_lic']\n",
      "\n",
      "\n",
      "['284882215', 'Facebook', '389879808', 'USD', '0.0', '2974676', '212', '3.5', '3.5', '95.0', '4+', 'Social Networking', '37', '1', '29', '1']\n",
      "\n",
      "\n",
      "['389801252', 'Instagram', '113954816', 'USD', '0.0', '2161558', '1289', '4.5', '4.0', '10.23', '12+', 'Photo & Video', '37', '0', '29', '1']\n",
      "\n",
      "\n",
      "['529479190', 'Clash of Clans', '116476928', 'USD', '0.0', '2130805', '579', '4.5', '4.5', '9.24.12', '9+', 'Games', '38', '5', '18', '1']\n",
      "\n",
      "\n",
      "Number of rows: 7197\n",
      "Number of columns: 16\n"
     ]
    }
   ],
   "source": [
    "print(apple_header)\n",
    "print('\\n')\n",
    "explore_data(apple, 0, 3, True)"
   ]
  },
  {
   "cell_type": "markdown",
   "metadata": {},
   "source": [
    "### Data Cleaning\n",
    "As this aims to be an analysis of free applications for an English-speaking audience, we remove the data from apps that aren't free and aren't in English as well as any duplicate or erroneous data"
   ]
  },
  {
   "cell_type": "markdown",
   "metadata": {},
   "source": [
    "#### Erroneous Data"
   ]
  },
  {
   "cell_type": "code",
   "execution_count": 5,
   "metadata": {},
   "outputs": [
    {
     "name": "stdout",
     "output_type": "stream",
     "text": [
      "['Life Made WI-Fi Touchscreen Photo Frame', '1.9', '19', '3.0M', '1,000+', 'Free', '0', 'Everyone', '', 'February 11, 2018', '1.0.19', '4.0 and up']\n",
      "\n",
      "\n",
      "['App', 'Category', 'Rating', 'Reviews', 'Size', 'Installs', 'Type', 'Price', 'Content Rating', 'Genres', 'Last Updated', 'Current Ver', 'Android Ver']\n",
      "\n",
      "\n",
      "['Photo Editor & Candy Camera & Grid & ScrapBook', 'ART_AND_DESIGN', '4.1', '159', '19M', '10,000+', 'Free', '0', 'Everyone', 'Art & Design', 'January 7, 2018', '1.0.0', '4.0.3 and up']\n"
     ]
    }
   ],
   "source": [
    "print(android[10472]) #flagged as an incorrect row\n",
    "print('\\n')\n",
    "print(android_header)\n",
    "print('\\n')\n",
    "print(android[0])"
   ]
  },
  {
   "cell_type": "code",
   "execution_count": 6,
   "metadata": {},
   "outputs": [
    {
     "name": "stdout",
     "output_type": "stream",
     "text": [
      "10841\n",
      "10840\n"
     ]
    }
   ],
   "source": [
    "#As row 10472 seems to have mssing/incorrect data, we'll delete that row\n",
    "print(len(android))\n",
    "del android[10472]\n",
    "print(len(android))"
   ]
  },
  {
   "cell_type": "markdown",
   "metadata": {},
   "source": [
    "#### Duplicate data"
   ]
  },
  {
   "cell_type": "markdown",
   "metadata": {},
   "source": [
    "As you can see below, the Instagram app is represented several times in the android data set"
   ]
  },
  {
   "cell_type": "code",
   "execution_count": 7,
   "metadata": {},
   "outputs": [
    {
     "name": "stdout",
     "output_type": "stream",
     "text": [
      "['Instagram', 'SOCIAL', '4.5', '66577313', 'Varies with device', '1,000,000,000+', 'Free', '0', 'Teen', 'Social', 'July 31, 2018', 'Varies with device', 'Varies with device']\n",
      "['Instagram', 'SOCIAL', '4.5', '66577446', 'Varies with device', '1,000,000,000+', 'Free', '0', 'Teen', 'Social', 'July 31, 2018', 'Varies with device', 'Varies with device']\n",
      "['Instagram', 'SOCIAL', '4.5', '66577313', 'Varies with device', '1,000,000,000+', 'Free', '0', 'Teen', 'Social', 'July 31, 2018', 'Varies with device', 'Varies with device']\n",
      "['Instagram', 'SOCIAL', '4.5', '66509917', 'Varies with device', '1,000,000,000+', 'Free', '0', 'Teen', 'Social', 'July 31, 2018', 'Varies with device', 'Varies with device']\n"
     ]
    }
   ],
   "source": [
    "for app in android:\n",
    "    name = app[0]\n",
    "    if name == 'Instagram':\n",
    "        print(app)"
   ]
  },
  {
   "cell_type": "markdown",
   "metadata": {},
   "source": [
    "We want to make sure we're not including duplicate data in the analysis, so we'll go through and check for duplicate entries, making separate lists for unique and duplicate app names"
   ]
  },
  {
   "cell_type": "code",
   "execution_count": 8,
   "metadata": {},
   "outputs": [
    {
     "name": "stdout",
     "output_type": "stream",
     "text": [
      "Number of duplicate apps: 1181\n",
      "\n",
      "\n",
      "Examples of duplicate apps: ['Quick PDF Scanner + OCR FREE', 'Box', 'Google My Business', 'ZOOM Cloud Meetings', 'join.me - Simple Meetings', 'Box', 'Zenefits', 'Google Ads', 'Google My Business', 'Slack']\n"
     ]
    }
   ],
   "source": [
    "duplicate_apps = []\n",
    "unique_apps = []\n",
    "\n",
    "for app in android: \n",
    "    name = app[0]\n",
    "    if name in unique_apps:\n",
    "        duplicate_apps.append(name)\n",
    "    else: \n",
    "        unique_apps.append(name)\n",
    "        \n",
    "print('Number of duplicate apps:', len(duplicate_apps))\n",
    "print('\\n')\n",
    "print('Examples of duplicate apps:', duplicate_apps[:10])"
   ]
  },
  {
   "cell_type": "markdown",
   "metadata": {},
   "source": [
    "We want to make sure we use the most up-to-date information, so for duplicates with different numbers of reviews, we'll keep the one with the most reviews (presumably the latest information). To accomplish this we'll bulid a dictionary with the key set as each unique app name, and the corresponding value as the highest number of reviews."
   ]
  },
  {
   "cell_type": "code",
   "execution_count": 9,
   "metadata": {},
   "outputs": [],
   "source": [
    "reviews_max = {}\n",
    "\n",
    "for app in android: \n",
    "    name = app[0]\n",
    "    n_reviews = float(app[3])\n",
    "    \n",
    "    if name in reviews_max and reviews_max[name] < n_reviews:\n",
    "        reviews_max[name] = n_reviews\n",
    "        \n",
    "    elif name not in reviews_max:\n",
    "        reviews_max[name] = n_reviews"
   ]
  },
  {
   "cell_type": "markdown",
   "metadata": {},
   "source": [
    "We found earlier that there existed 1181 duplicate entries in the Android data set, which means that the true dataset should be 10840 - 1181 = *9659*"
   ]
  },
  {
   "cell_type": "code",
   "execution_count": 10,
   "metadata": {},
   "outputs": [
    {
     "name": "stdout",
     "output_type": "stream",
     "text": [
      "Expected length: 9659\n",
      "Actual length: 9659\n"
     ]
    }
   ],
   "source": [
    "print('Expected length:', len(android)-1181)\n",
    "print('Actual length:', len(reviews_max))"
   ]
  },
  {
   "cell_type": "markdown",
   "metadata": {},
   "source": [
    "Now we'll use our dictionary of reviews to select only the unique data we want in our set"
   ]
  },
  {
   "cell_type": "code",
   "execution_count": 11,
   "metadata": {},
   "outputs": [],
   "source": [
    "android_clean = []\n",
    "already_added = []\n",
    "\n",
    "for app in android: \n",
    "    name = app[0]\n",
    "    n_reviews = float(app[3])\n",
    "    \n",
    "    if (reviews_max[name] == n_reviews) and (name not in already_added):\n",
    "        android_clean.append(app)\n",
    "        already_added.append(name)"
   ]
  },
  {
   "cell_type": "code",
   "execution_count": 12,
   "metadata": {},
   "outputs": [
    {
     "name": "stdout",
     "output_type": "stream",
     "text": [
      "['Photo Editor & Candy Camera & Grid & ScrapBook', 'ART_AND_DESIGN', '4.1', '159', '19M', '10,000+', 'Free', '0', 'Everyone', 'Art & Design', 'January 7, 2018', '1.0.0', '4.0.3 and up']\n",
      "\n",
      "\n",
      "['U Launcher Lite – FREE Live Cool Themes, Hide Apps', 'ART_AND_DESIGN', '4.7', '87510', '8.7M', '5,000,000+', 'Free', '0', 'Everyone', 'Art & Design', 'August 1, 2018', '1.2.4', '4.0.3 and up']\n",
      "\n",
      "\n",
      "['Sketch - Draw & Paint', 'ART_AND_DESIGN', '4.5', '215644', '25M', '50,000,000+', 'Free', '0', 'Teen', 'Art & Design', 'June 8, 2018', 'Varies with device', '4.2 and up']\n",
      "\n",
      "\n",
      "Number of rows: 9659\n",
      "Number of columns: 13\n"
     ]
    }
   ],
   "source": [
    "explore_data(android_clean,0,3,True)"
   ]
  },
  {
   "cell_type": "markdown",
   "metadata": {},
   "source": [
    "Now we'll just check for duplicate apps in the Apple store data"
   ]
  },
  {
   "cell_type": "code",
   "execution_count": 13,
   "metadata": {},
   "outputs": [
    {
     "name": "stdout",
     "output_type": "stream",
     "text": [
      "Number of duplicate apps: 0\n"
     ]
    }
   ],
   "source": [
    "duplicate_apps = []\n",
    "unique_apps = []\n",
    "\n",
    "for app in apple: \n",
    "    name = app[0]\n",
    "    if name in unique_apps:\n",
    "        duplicate_apps.append(name)\n",
    "    else: \n",
    "        unique_apps.append(name)\n",
    "        \n",
    "print('Number of duplicate apps:', len(duplicate_apps))"
   ]
  },
  {
   "cell_type": "markdown",
   "metadata": {},
   "source": [
    "#### Keeping only apps in English"
   ]
  },
  {
   "cell_type": "markdown",
   "metadata": {},
   "source": [
    "We'll start by creating a function to find apps with names that are not in English. English characters and puctuation are identified by the using the `ord()` function, which returns a number < 127 for English characters. We're also allowing for up to three non-English characters, to allow for emojis and other symbols that occur in names of English language apps. "
   ]
  },
  {
   "cell_type": "code",
   "execution_count": 14,
   "metadata": {},
   "outputs": [],
   "source": [
    "def is_english(string):\n",
    "    non_ascii = 0\n",
    "    \n",
    "    for character in string:\n",
    "        if ord(character) > 127:\n",
    "            non_ascii += 1\n",
    "            \n",
    "    if non_ascii > 3:\n",
    "        return False\n",
    "    else: \n",
    "        return True"
   ]
  },
  {
   "cell_type": "markdown",
   "metadata": {},
   "source": [
    "Now we'll run our app data through the function and keep only the records for English language apps. "
   ]
  },
  {
   "cell_type": "code",
   "execution_count": 15,
   "metadata": {},
   "outputs": [
    {
     "name": "stdout",
     "output_type": "stream",
     "text": [
      "['Photo Editor & Candy Camera & Grid & ScrapBook', 'ART_AND_DESIGN', '4.1', '159', '19M', '10,000+', 'Free', '0', 'Everyone', 'Art & Design', 'January 7, 2018', '1.0.0', '4.0.3 and up']\n",
      "\n",
      "\n",
      "['U Launcher Lite – FREE Live Cool Themes, Hide Apps', 'ART_AND_DESIGN', '4.7', '87510', '8.7M', '5,000,000+', 'Free', '0', 'Everyone', 'Art & Design', 'August 1, 2018', '1.2.4', '4.0.3 and up']\n",
      "\n",
      "\n",
      "['Sketch - Draw & Paint', 'ART_AND_DESIGN', '4.5', '215644', '25M', '50,000,000+', 'Free', '0', 'Teen', 'Art & Design', 'June 8, 2018', 'Varies with device', '4.2 and up']\n",
      "\n",
      "\n",
      "Number of rows: 9614\n",
      "Number of columns: 13\n",
      "\n",
      "\n",
      "['284882215', 'Facebook', '389879808', 'USD', '0.0', '2974676', '212', '3.5', '3.5', '95.0', '4+', 'Social Networking', '37', '1', '29', '1']\n",
      "\n",
      "\n",
      "['389801252', 'Instagram', '113954816', 'USD', '0.0', '2161558', '1289', '4.5', '4.0', '10.23', '12+', 'Photo & Video', '37', '0', '29', '1']\n",
      "\n",
      "\n",
      "['529479190', 'Clash of Clans', '116476928', 'USD', '0.0', '2130805', '579', '4.5', '4.5', '9.24.12', '9+', 'Games', '38', '5', '18', '1']\n",
      "\n",
      "\n",
      "Number of rows: 6183\n",
      "Number of columns: 16\n"
     ]
    }
   ],
   "source": [
    "android_english = []\n",
    "apple_english = []\n",
    "\n",
    "for app in android_clean:\n",
    "    name = app[0]\n",
    "    if is_english(name):\n",
    "        android_english.append(app)\n",
    "        \n",
    "for app in apple:\n",
    "    name = app[1]\n",
    "    if is_english(name):\n",
    "        apple_english.append(app)\n",
    "        \n",
    "explore_data(android_english, 0, 3, True)\n",
    "print('\\n')\n",
    "explore_data(apple_english, 0, 3, True)"
   ]
  },
  {
   "cell_type": "markdown",
   "metadata": {},
   "source": [
    "#### Selecting only free apps"
   ]
  },
  {
   "cell_type": "markdown",
   "metadata": {},
   "source": [
    "As we're interested in researching free apps, we're restricting our analysis to exlude pay apps. We'll cycle through the data and remove those with prices listed. "
   ]
  },
  {
   "cell_type": "code",
   "execution_count": 16,
   "metadata": {},
   "outputs": [
    {
     "name": "stdout",
     "output_type": "stream",
     "text": [
      "8864\n",
      "3222\n"
     ]
    }
   ],
   "source": [
    "android_final = []\n",
    "apple_final = []\n",
    "\n",
    "for app in android_english:\n",
    "    price = app[7]\n",
    "    if price == '0':\n",
    "        android_final.append(app)\n",
    "        \n",
    "for app in apple_english:\n",
    "    price = app[4]\n",
    "    if price == '0.0':\n",
    "        apple_final.append(app)\n",
    "        \n",
    "print(len(android_final))\n",
    "print(len(apple_final))\n",
    "    "
   ]
  },
  {
   "cell_type": "markdown",
   "metadata": {},
   "source": [
    "### Analysis of Application Data"
   ]
  },
  {
   "cell_type": "markdown",
   "metadata": {},
   "source": [
    "The goal of this analysis is to identify applications with broad appeal. To understand and reach the widest audience, we're including data from both Android and Apple app stores, and we'll identify the most commonly accessed and best reviewed applications."
   ]
  },
  {
   "cell_type": "markdown",
   "metadata": {},
   "source": [
    "Once we've identified the direction we'd like to pursue for our application, testing will unfold in three parts: \n",
    "1. we plan to test the app with a minimal build in Google Play. \n",
    "2. If the app generates a positive response from users, we will develop the app further. \n",
    "3. If, after six months the app is profitable, we will build an iOS version and add it to the App Store."
   ]
  },
  {
   "cell_type": "markdown",
   "metadata": {},
   "source": [
    "#### Frequency of Apps by Genre"
   ]
  },
  {
   "cell_type": "markdown",
   "metadata": {},
   "source": [
    "We will begin the analysis by identifying the most common app genres for each market."
   ]
  },
  {
   "cell_type": "code",
   "execution_count": 25,
   "metadata": {},
   "outputs": [],
   "source": [
    "def freq_table(dataset, index):\n",
    "    table = {}\n",
    "    total = 0\n",
    "    \n",
    "    for row in dataset: \n",
    "        total += 1\n",
    "        value = row[index]\n",
    "        if value in table: \n",
    "            table[value] += 1\n",
    "        else: \n",
    "            table[value] = 1\n",
    "        \n",
    "    table_percentages = {}\n",
    "    for key in table:\n",
    "        percentage = (table[key] / total) * 100\n",
    "        table_percentages[key] = percentage\n",
    "        \n",
    "    return table_percentages\n",
    "\n",
    "def display_table(dataset, index):\n",
    "    table = freq_table(dataset, index)\n",
    "    table_display = []\n",
    "    for key in table:\n",
    "        key_val_as_tuple = (table[key], key)\n",
    "        table_display.append(key_val_as_tuple)\n",
    "        \n",
    "    table_sorted = sorted(table_display, reverse = True)\n",
    "    for entry in table_sorted:\n",
    "        print(entry[1], ':', '{:.2f} %'.format(entry[0]))\n"
   ]
  },
  {
   "cell_type": "markdown",
   "metadata": {},
   "source": [
    "Now we can look at the categories/genre of apps in both App Store and Play Store data sets"
   ]
  },
  {
   "cell_type": "code",
   "execution_count": 26,
   "metadata": {},
   "outputs": [
    {
     "name": "stdout",
     "output_type": "stream",
     "text": [
      "Games : 58.16 %\n",
      "Entertainment : 7.88 %\n",
      "Photo & Video : 4.97 %\n",
      "Education : 3.66 %\n",
      "Social Networking : 3.29 %\n",
      "Shopping : 2.61 %\n",
      "Utilities : 2.51 %\n",
      "Sports : 2.14 %\n",
      "Music : 2.05 %\n",
      "Health & Fitness : 2.02 %\n",
      "Productivity : 1.74 %\n",
      "Lifestyle : 1.58 %\n",
      "News : 1.33 %\n",
      "Travel : 1.24 %\n",
      "Finance : 1.12 %\n",
      "Weather : 0.87 %\n",
      "Food & Drink : 0.81 %\n",
      "Reference : 0.56 %\n",
      "Business : 0.53 %\n",
      "Book : 0.43 %\n",
      "Navigation : 0.19 %\n",
      "Medical : 0.19 %\n",
      "Catalogs : 0.12 %\n"
     ]
    }
   ],
   "source": [
    "display_table(apple_final,-5)"
   ]
  },
  {
   "cell_type": "markdown",
   "metadata": {},
   "source": [
    "From the percentages listed above, it's clear that games and entertainment are most heavily represented in the App Store (together accounting for ~66% of apps) while more practical apps (education, health, finance, etc.) comprise a small portion of the apps available. This does not necessarily imply that these apps have the greatest number of users - notice that Social Networking apps are only 3.6% of the total despite being very popular. "
   ]
  },
  {
   "cell_type": "markdown",
   "metadata": {},
   "source": [
    "Next we'll look at the applications in the Google Play data"
   ]
  },
  {
   "cell_type": "code",
   "execution_count": 27,
   "metadata": {},
   "outputs": [
    {
     "name": "stdout",
     "output_type": "stream",
     "text": [
      "FAMILY : 18.91 %\n",
      "GAME : 9.72 %\n",
      "TOOLS : 8.46 %\n",
      "BUSINESS : 4.59 %\n",
      "LIFESTYLE : 3.90 %\n",
      "PRODUCTIVITY : 3.89 %\n",
      "FINANCE : 3.70 %\n",
      "MEDICAL : 3.53 %\n",
      "SPORTS : 3.40 %\n",
      "PERSONALIZATION : 3.32 %\n",
      "COMMUNICATION : 3.24 %\n",
      "HEALTH_AND_FITNESS : 3.08 %\n",
      "PHOTOGRAPHY : 2.94 %\n",
      "NEWS_AND_MAGAZINES : 2.80 %\n",
      "SOCIAL : 2.66 %\n",
      "TRAVEL_AND_LOCAL : 2.34 %\n",
      "SHOPPING : 2.25 %\n",
      "BOOKS_AND_REFERENCE : 2.14 %\n",
      "DATING : 1.86 %\n",
      "VIDEO_PLAYERS : 1.79 %\n",
      "MAPS_AND_NAVIGATION : 1.40 %\n",
      "FOOD_AND_DRINK : 1.24 %\n",
      "EDUCATION : 1.16 %\n",
      "ENTERTAINMENT : 0.96 %\n",
      "LIBRARIES_AND_DEMO : 0.94 %\n",
      "AUTO_AND_VEHICLES : 0.93 %\n",
      "HOUSE_AND_HOME : 0.82 %\n",
      "WEATHER : 0.80 %\n",
      "EVENTS : 0.71 %\n",
      "PARENTING : 0.65 %\n",
      "ART_AND_DESIGN : 0.64 %\n",
      "COMICS : 0.62 %\n",
      "BEAUTY : 0.60 %\n"
     ]
    }
   ],
   "source": [
    "display_table(android_final, 1) #Category"
   ]
  },
  {
   "cell_type": "markdown",
   "metadata": {},
   "source": [
    "The Google Play landscape seems a bit different than the App Store. In the Android store, apps targeting lifestyle, productivity, and other practical needs seem to represent a larger share. Let's look at the frequency table for the \"genre\" data to confirm. "
   ]
  },
  {
   "cell_type": "code",
   "execution_count": 28,
   "metadata": {},
   "outputs": [
    {
     "name": "stdout",
     "output_type": "stream",
     "text": [
      "Tools : 8.45 %\n",
      "Entertainment : 6.07 %\n",
      "Education : 5.35 %\n",
      "Business : 4.59 %\n",
      "Productivity : 3.89 %\n",
      "Lifestyle : 3.89 %\n",
      "Finance : 3.70 %\n",
      "Medical : 3.53 %\n",
      "Sports : 3.46 %\n",
      "Personalization : 3.32 %\n",
      "Communication : 3.24 %\n",
      "Action : 3.10 %\n",
      "Health & Fitness : 3.08 %\n",
      "Photography : 2.94 %\n",
      "News & Magazines : 2.80 %\n",
      "Social : 2.66 %\n",
      "Travel & Local : 2.32 %\n",
      "Shopping : 2.25 %\n",
      "Books & Reference : 2.14 %\n",
      "Simulation : 2.04 %\n",
      "Dating : 1.86 %\n",
      "Arcade : 1.85 %\n",
      "Video Players & Editors : 1.77 %\n",
      "Casual : 1.76 %\n",
      "Maps & Navigation : 1.40 %\n",
      "Food & Drink : 1.24 %\n",
      "Puzzle : 1.13 %\n",
      "Racing : 0.99 %\n",
      "Role Playing : 0.94 %\n",
      "Libraries & Demo : 0.94 %\n",
      "Auto & Vehicles : 0.93 %\n",
      "Strategy : 0.91 %\n",
      "House & Home : 0.82 %\n",
      "Weather : 0.80 %\n",
      "Events : 0.71 %\n",
      "Adventure : 0.68 %\n",
      "Comics : 0.61 %\n",
      "Beauty : 0.60 %\n",
      "Art & Design : 0.60 %\n",
      "Parenting : 0.50 %\n",
      "Card : 0.45 %\n",
      "Casino : 0.43 %\n",
      "Trivia : 0.42 %\n",
      "Educational;Education : 0.39 %\n",
      "Board : 0.38 %\n",
      "Educational : 0.37 %\n",
      "Education;Education : 0.34 %\n",
      "Word : 0.26 %\n",
      "Casual;Pretend Play : 0.24 %\n",
      "Music : 0.20 %\n",
      "Racing;Action & Adventure : 0.17 %\n",
      "Puzzle;Brain Games : 0.17 %\n",
      "Entertainment;Music & Video : 0.17 %\n",
      "Casual;Brain Games : 0.14 %\n",
      "Casual;Action & Adventure : 0.14 %\n",
      "Arcade;Action & Adventure : 0.12 %\n",
      "Action;Action & Adventure : 0.10 %\n",
      "Educational;Pretend Play : 0.09 %\n",
      "Simulation;Action & Adventure : 0.08 %\n",
      "Parenting;Education : 0.08 %\n",
      "Entertainment;Brain Games : 0.08 %\n",
      "Board;Brain Games : 0.08 %\n",
      "Parenting;Music & Video : 0.07 %\n",
      "Educational;Brain Games : 0.07 %\n",
      "Casual;Creativity : 0.07 %\n",
      "Art & Design;Creativity : 0.07 %\n",
      "Education;Pretend Play : 0.06 %\n",
      "Role Playing;Pretend Play : 0.05 %\n",
      "Education;Creativity : 0.05 %\n",
      "Role Playing;Action & Adventure : 0.03 %\n",
      "Puzzle;Action & Adventure : 0.03 %\n",
      "Entertainment;Creativity : 0.03 %\n",
      "Entertainment;Action & Adventure : 0.03 %\n",
      "Educational;Creativity : 0.03 %\n",
      "Educational;Action & Adventure : 0.03 %\n",
      "Education;Music & Video : 0.03 %\n",
      "Education;Brain Games : 0.03 %\n",
      "Education;Action & Adventure : 0.03 %\n",
      "Adventure;Action & Adventure : 0.03 %\n",
      "Video Players & Editors;Music & Video : 0.02 %\n",
      "Sports;Action & Adventure : 0.02 %\n",
      "Simulation;Pretend Play : 0.02 %\n",
      "Puzzle;Creativity : 0.02 %\n",
      "Music;Music & Video : 0.02 %\n",
      "Entertainment;Pretend Play : 0.02 %\n",
      "Casual;Education : 0.02 %\n",
      "Board;Action & Adventure : 0.02 %\n",
      "Video Players & Editors;Creativity : 0.01 %\n",
      "Trivia;Education : 0.01 %\n",
      "Travel & Local;Action & Adventure : 0.01 %\n",
      "Tools;Education : 0.01 %\n",
      "Strategy;Education : 0.01 %\n",
      "Strategy;Creativity : 0.01 %\n",
      "Strategy;Action & Adventure : 0.01 %\n",
      "Simulation;Education : 0.01 %\n",
      "Role Playing;Brain Games : 0.01 %\n",
      "Racing;Pretend Play : 0.01 %\n",
      "Puzzle;Education : 0.01 %\n",
      "Parenting;Brain Games : 0.01 %\n",
      "Music & Audio;Music & Video : 0.01 %\n",
      "Lifestyle;Pretend Play : 0.01 %\n",
      "Lifestyle;Education : 0.01 %\n",
      "Health & Fitness;Education : 0.01 %\n",
      "Health & Fitness;Action & Adventure : 0.01 %\n",
      "Entertainment;Education : 0.01 %\n",
      "Communication;Creativity : 0.01 %\n",
      "Comics;Creativity : 0.01 %\n",
      "Casual;Music & Video : 0.01 %\n",
      "Card;Action & Adventure : 0.01 %\n",
      "Books & Reference;Education : 0.01 %\n",
      "Art & Design;Pretend Play : 0.01 %\n",
      "Art & Design;Action & Adventure : 0.01 %\n",
      "Arcade;Pretend Play : 0.01 %\n",
      "Adventure;Education : 0.01 %\n"
     ]
    }
   ],
   "source": [
    "display_table(android_final, -4) #Genres"
   ]
  },
  {
   "cell_type": "markdown",
   "metadata": {},
   "source": [
    "While there is a bit of overlap between the `Category` and `Genre` data in the Google Play data set, the `Genre` data is extensive (many more categories) and since for this analysis, we're interested in the big picture, we'll work with the `Category` data going forward. "
   ]
  },
  {
   "cell_type": "markdown",
   "metadata": {},
   "source": [
    "The frequency tables above give us an idea about the distribution of offereings, but do not provide data on the distribution of users - which apps are the most popular? "
   ]
  },
  {
   "cell_type": "markdown",
   "metadata": {},
   "source": [
    "#### Most Popular Apps by Genre "
   ]
  },
  {
   "cell_type": "markdown",
   "metadata": {},
   "source": [
    "In the App Store data, there is no field indicating number of installs per app, but we can look at the number of reviews, `rating_count_tot`, to give us an approximation of users per app in a particular genre. "
   ]
  },
  {
   "cell_type": "code",
   "execution_count": 29,
   "metadata": {},
   "outputs": [
    {
     "name": "stdout",
     "output_type": "stream",
     "text": [
      "Social Networking : 71548.35\n",
      "Photo & Video : 28441.54\n",
      "Games : 22788.67\n",
      "Music : 57326.53\n",
      "Reference : 74942.11\n",
      "Health & Fitness : 23298.02\n",
      "Weather : 52279.89\n",
      "Utilities : 18684.46\n",
      "Travel : 28243.80\n",
      "Shopping : 26919.69\n",
      "News : 21248.02\n",
      "Navigation : 86090.33\n",
      "Lifestyle : 16485.76\n",
      "Entertainment : 14029.83\n",
      "Food & Drink : 33333.92\n",
      "Sports : 23008.90\n",
      "Book : 39758.50\n",
      "Finance : 31467.94\n",
      "Education : 7003.98\n",
      "Productivity : 21028.41\n",
      "Business : 7491.12\n",
      "Catalogs : 4004.00\n",
      "Medical : 612.00\n"
     ]
    }
   ],
   "source": [
    "genres_apple = freq_table(apple_final, -5)\n",
    "\n",
    "for genre in genres_apple: \n",
    "    total = 0\n",
    "    len_genre = 0\n",
    "    \n",
    "    for app in apple_final:\n",
    "        genre_app = app[-5]\n",
    "        if genre_app == genre:\n",
    "            n_ratings = float(app[5])\n",
    "            total += n_ratings\n",
    "            len_genre += 1\n",
    "            \n",
    "    avg_n_ratings = total / len_genre\n",
    "    print(genre, ':', '{:.2f}'.format(avg_n_ratings))"
   ]
  },
  {
   "cell_type": "markdown",
   "metadata": {},
   "source": [
    "We can perform a similar analysis with the Google Play data, but instead of user ratings, we can use the `Installs` variable to gauge use. "
   ]
  },
  {
   "cell_type": "code",
   "execution_count": 30,
   "metadata": {},
   "outputs": [
    {
     "name": "stdout",
     "output_type": "stream",
     "text": [
      "1,000,000+ : 15.73 %\n",
      "100,000+ : 11.55 %\n",
      "10,000,000+ : 10.55 %\n",
      "10,000+ : 10.20 %\n",
      "1,000+ : 8.39 %\n",
      "100+ : 6.92 %\n",
      "5,000,000+ : 6.83 %\n",
      "500,000+ : 5.56 %\n",
      "50,000+ : 4.77 %\n",
      "5,000+ : 4.51 %\n",
      "10+ : 3.54 %\n",
      "500+ : 3.25 %\n",
      "50,000,000+ : 2.30 %\n",
      "100,000,000+ : 2.13 %\n",
      "50+ : 1.92 %\n",
      "5+ : 0.79 %\n",
      "1+ : 0.51 %\n",
      "500,000,000+ : 0.27 %\n",
      "1,000,000,000+ : 0.23 %\n",
      "0+ : 0.05 %\n",
      "0 : 0.01 %\n"
     ]
    }
   ],
   "source": [
    "display_table(android_final, 5) #Installs column"
   ]
  },
  {
   "cell_type": "markdown",
   "metadata": {},
   "source": [
    "One issue with this data is that the numbers are imprecise (i.e., 1,000+ rather than a specific number between 1,000 and 10,000). For our purposes, however, this is okay as we want to gauge general interest, and we will just use the base number given. That is to say, an app with 1,000,000+ installs will be considered to have 1,000,000 installs, and so on.  "
   ]
  },
  {
   "cell_type": "markdown",
   "metadata": {},
   "source": [
    "To use the given data, we will have to convert the install numbers to `float` by removing the commas and '+' characters before performing any calculations. We will do this at the same time as we average the number of installs per genre/category. "
   ]
  },
  {
   "cell_type": "code",
   "execution_count": 38,
   "metadata": {},
   "outputs": [
    {
     "name": "stdout",
     "output_type": "stream",
     "text": [
      "ART_AND_DESIGN : 1986335.09\n",
      "AUTO_AND_VEHICLES : 647317.82\n",
      "BEAUTY : 513151.89\n",
      "BOOKS_AND_REFERENCE : 8767811.89\n",
      "BUSINESS : 1712290.15\n",
      "COMICS : 817657.27\n",
      "COMMUNICATION : 38456119.17\n",
      "DATING : 854028.83\n",
      "EDUCATION : 1833495.15\n",
      "ENTERTAINMENT : 11640705.88\n",
      "EVENTS : 253542.22\n",
      "FINANCE : 1387692.48\n",
      "FOOD_AND_DRINK : 1924897.74\n",
      "HEALTH_AND_FITNESS : 4188821.99\n",
      "HOUSE_AND_HOME : 1331540.56\n",
      "LIBRARIES_AND_DEMO : 638503.73\n",
      "LIFESTYLE : 1437816.27\n",
      "GAME : 15588015.60\n",
      "FAMILY : 3695641.82\n",
      "MEDICAL : 120550.62\n",
      "SOCIAL : 23253652.13\n",
      "SHOPPING : 7036877.31\n",
      "PHOTOGRAPHY : 17840110.40\n",
      "SPORTS : 3638640.14\n",
      "TRAVEL_AND_LOCAL : 13984077.71\n",
      "TOOLS : 10801391.30\n",
      "PERSONALIZATION : 5201482.61\n",
      "PRODUCTIVITY : 16787331.34\n",
      "PARENTING : 542603.62\n",
      "WEATHER : 5074486.20\n",
      "VIDEO_PLAYERS : 24727872.45\n",
      "NEWS_AND_MAGAZINES : 9549178.47\n",
      "MAPS_AND_NAVIGATION : 4056941.77\n"
     ]
    }
   ],
   "source": [
    "categories_android = freq_table(android_final, 1)\n",
    "\n",
    "for category in categories_android: \n",
    "    total  = 0\n",
    "    len_category = 0\n",
    "    \n",
    "    for app in android_final:\n",
    "        category_app = app[1]\n",
    "        if category_app == category:\n",
    "            n_installs = app[5]\n",
    "            n_installs = n_installs.replace(',','')\n",
    "            n_installs = n_installs.replace('+','')\n",
    "            total += float(n_installs)\n",
    "            len_category += 1\n",
    "            \n",
    "    avg_n_installs = total / len_category\n",
    "    print(category, ':', '{:.2f}'.format(avg_n_installs))"
   ]
  },
  {
   "cell_type": "markdown",
   "metadata": {},
   "source": [
    "### Discussion and Recommendations"
   ]
  },
  {
   "cell_type": "markdown",
   "metadata": {},
   "source": [
    "Some of the numbers above could be a bit misleading. At first one might be tempted to interpret the fact that the reference genre has so many ratings (86090 per app in the App Store) and such a small percentage of the market (0.19 %) is indicative of a large audience clamoring for few apps and an opportunity for growth. A careful examination of the genre, however, reveals that those numbers are skewed by a very few apps garnering a large number of reviews, and the rest of the genre struggling:"
   ]
  },
  {
   "cell_type": "code",
   "execution_count": 40,
   "metadata": {},
   "outputs": [
    {
     "name": "stdout",
     "output_type": "stream",
     "text": [
      "Waze - GPS Navigation, Maps & Real-time Traffic : 345046\n",
      "Google Maps - Navigation & Transit : 154911\n",
      "Geocaching® : 12811\n",
      "CoPilot GPS – Car Navigation & Offline Maps : 3582\n",
      "ImmobilienScout24: Real Estate Search in Germany : 187\n",
      "Railway Route Search : 5\n"
     ]
    }
   ],
   "source": [
    "for app in apple_final:\n",
    "    if app[-5] == 'Navigation':\n",
    "        print(app[1], ':', app[5])"
   ]
  },
  {
   "cell_type": "markdown",
   "metadata": {},
   "source": [
    "A few other genres, including weather, reference, and social networking suffer from this same problem - a few very popular apps dominating the field. "
   ]
  },
  {
   "cell_type": "markdown",
   "metadata": {},
   "source": [
    "Other genres, such as Game and Entertainment are heavily downloaded, but also comprise a large portion of the offerings, leading to a fear of developing an app that might be overlooked as one of many in a saturated field. "
   ]
  },
  {
   "cell_type": "markdown",
   "metadata": {},
   "source": [
    "One potentially fruitful direction would be to appeal to the seemingly general interest in books, social networking, and games by creating an app that presents popular books, generates quizzes or trivia games based on those books, and connects readers who enjoy the same books. One potential avenue for social networking could be reading groups where people can read the book \"together\" and discuss, or compete in book knowledge games. This sort of app could appeal to those wishing to read more, and to connect with other readers. "
   ]
  }
 ],
 "metadata": {
  "kernelspec": {
   "display_name": "Python 3",
   "language": "python",
   "name": "python3"
  },
  "language_info": {
   "codemirror_mode": {
    "name": "ipython",
    "version": 3
   },
   "file_extension": ".py",
   "mimetype": "text/x-python",
   "name": "python",
   "nbconvert_exporter": "python",
   "pygments_lexer": "ipython3",
   "version": "3.8.2"
  }
 },
 "nbformat": 4,
 "nbformat_minor": 2
}
